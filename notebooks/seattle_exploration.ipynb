{
 "cells": [
  {
   "cell_type": "code",
   "execution_count": null,
   "metadata": {},
   "outputs": [],
   "source": []
  },
  {
   "cell_type": "code",
   "execution_count": 7,
   "metadata": {},
   "outputs": [
    {
     "data": {
      "text/plain": [
       "'df_calendar'"
      ]
     },
     "metadata": {},
     "output_type": "display_data"
    },
    {
     "data": {
      "text/html": [
       "<div>\n",
       "<style scoped>\n",
       "    .dataframe tbody tr th:only-of-type {\n",
       "        vertical-align: middle;\n",
       "    }\n",
       "\n",
       "    .dataframe tbody tr th {\n",
       "        vertical-align: top;\n",
       "    }\n",
       "\n",
       "    .dataframe thead th {\n",
       "        text-align: right;\n",
       "    }\n",
       "</style>\n",
       "<table border=\"1\" class=\"dataframe\">\n",
       "  <thead>\n",
       "    <tr style=\"text-align: right;\">\n",
       "      <th></th>\n",
       "      <th>listing_id</th>\n",
       "      <th>date</th>\n",
       "      <th>available</th>\n",
       "      <th>price</th>\n",
       "      <th>adjusted_price</th>\n",
       "      <th>minimum_nights</th>\n",
       "      <th>maximum_nights</th>\n",
       "    </tr>\n",
       "  </thead>\n",
       "  <tbody>\n",
       "    <tr>\n",
       "      <th>0</th>\n",
       "      <td>9419</td>\n",
       "      <td>2024-12-23</td>\n",
       "      <td>f</td>\n",
       "      <td>$62.00</td>\n",
       "      <td>NaN</td>\n",
       "      <td>2</td>\n",
       "      <td>90</td>\n",
       "    </tr>\n",
       "    <tr>\n",
       "      <th>1</th>\n",
       "      <td>9419</td>\n",
       "      <td>2024-12-24</td>\n",
       "      <td>f</td>\n",
       "      <td>$62.00</td>\n",
       "      <td>NaN</td>\n",
       "      <td>2</td>\n",
       "      <td>90</td>\n",
       "    </tr>\n",
       "  </tbody>\n",
       "</table>\n",
       "</div>"
      ],
      "text/plain": [
       "   listing_id        date available   price  adjusted_price  minimum_nights  \\\n",
       "0        9419  2024-12-23         f  $62.00             NaN               2   \n",
       "1        9419  2024-12-24         f  $62.00             NaN               2   \n",
       "\n",
       "   maximum_nights  \n",
       "0              90  \n",
       "1              90  "
      ]
     },
     "metadata": {},
     "output_type": "display_data"
    },
    {
     "data": {
      "text/plain": [
       "'df_listings'"
      ]
     },
     "metadata": {},
     "output_type": "display_data"
    },
    {
     "data": {
      "text/html": [
       "<div>\n",
       "<style scoped>\n",
       "    .dataframe tbody tr th:only-of-type {\n",
       "        vertical-align: middle;\n",
       "    }\n",
       "\n",
       "    .dataframe tbody tr th {\n",
       "        vertical-align: top;\n",
       "    }\n",
       "\n",
       "    .dataframe thead th {\n",
       "        text-align: right;\n",
       "    }\n",
       "</style>\n",
       "<table border=\"1\" class=\"dataframe\">\n",
       "  <thead>\n",
       "    <tr style=\"text-align: right;\">\n",
       "      <th></th>\n",
       "      <th>id</th>\n",
       "      <th>listing_url</th>\n",
       "      <th>scrape_id</th>\n",
       "      <th>last_scraped</th>\n",
       "      <th>source</th>\n",
       "      <th>name</th>\n",
       "      <th>description</th>\n",
       "      <th>neighborhood_overview</th>\n",
       "      <th>picture_url</th>\n",
       "      <th>host_id</th>\n",
       "      <th>...</th>\n",
       "      <th>review_scores_communication</th>\n",
       "      <th>review_scores_location</th>\n",
       "      <th>review_scores_value</th>\n",
       "      <th>license</th>\n",
       "      <th>instant_bookable</th>\n",
       "      <th>calculated_host_listings_count</th>\n",
       "      <th>calculated_host_listings_count_entire_homes</th>\n",
       "      <th>calculated_host_listings_count_private_rooms</th>\n",
       "      <th>calculated_host_listings_count_shared_rooms</th>\n",
       "      <th>reviews_per_month</th>\n",
       "    </tr>\n",
       "  </thead>\n",
       "  <tbody>\n",
       "    <tr>\n",
       "      <th>0</th>\n",
       "      <td>6606</td>\n",
       "      <td>https://www.airbnb.com/rooms/6606</td>\n",
       "      <td>20241223022600</td>\n",
       "      <td>2024-12-23</td>\n",
       "      <td>city scrape</td>\n",
       "      <td>Fab, private seattle urban cottage!</td>\n",
       "      <td>This tiny cottage is only 15x10, but it has ev...</td>\n",
       "      <td>A peaceful yet highly accessible neighborhood,...</td>\n",
       "      <td>https://a0.muscache.com/pictures/45742/21116d7...</td>\n",
       "      <td>14942</td>\n",
       "      <td>...</td>\n",
       "      <td>4.77</td>\n",
       "      <td>4.88</td>\n",
       "      <td>4.57</td>\n",
       "      <td>str-opli-19-002622</td>\n",
       "      <td>f</td>\n",
       "      <td>2</td>\n",
       "      <td>2</td>\n",
       "      <td>0</td>\n",
       "      <td>0</td>\n",
       "      <td>0.86</td>\n",
       "    </tr>\n",
       "    <tr>\n",
       "      <th>1</th>\n",
       "      <td>9419</td>\n",
       "      <td>https://www.airbnb.com/rooms/9419</td>\n",
       "      <td>20241223022600</td>\n",
       "      <td>2024-12-23</td>\n",
       "      <td>city scrape</td>\n",
       "      <td>Glorious sun room w/ memory foambed</td>\n",
       "      <td>This beautiful double room features sun filled...</td>\n",
       "      <td>Lots of restaurants (see our guide book) bars,...</td>\n",
       "      <td>https://a0.muscache.com/pictures/56645186/e5fb...</td>\n",
       "      <td>30559</td>\n",
       "      <td>...</td>\n",
       "      <td>4.89</td>\n",
       "      <td>4.68</td>\n",
       "      <td>4.67</td>\n",
       "      <td>Exempt</td>\n",
       "      <td>f</td>\n",
       "      <td>11</td>\n",
       "      <td>0</td>\n",
       "      <td>11</td>\n",
       "      <td>0</td>\n",
       "      <td>1.19</td>\n",
       "    </tr>\n",
       "  </tbody>\n",
       "</table>\n",
       "<p>2 rows × 75 columns</p>\n",
       "</div>"
      ],
      "text/plain": [
       "     id                        listing_url       scrape_id last_scraped  \\\n",
       "0  6606  https://www.airbnb.com/rooms/6606  20241223022600   2024-12-23   \n",
       "1  9419  https://www.airbnb.com/rooms/9419  20241223022600   2024-12-23   \n",
       "\n",
       "        source                                 name  \\\n",
       "0  city scrape  Fab, private seattle urban cottage!   \n",
       "1  city scrape  Glorious sun room w/ memory foambed   \n",
       "\n",
       "                                         description  \\\n",
       "0  This tiny cottage is only 15x10, but it has ev...   \n",
       "1  This beautiful double room features sun filled...   \n",
       "\n",
       "                               neighborhood_overview  \\\n",
       "0  A peaceful yet highly accessible neighborhood,...   \n",
       "1  Lots of restaurants (see our guide book) bars,...   \n",
       "\n",
       "                                         picture_url  host_id  ...  \\\n",
       "0  https://a0.muscache.com/pictures/45742/21116d7...    14942  ...   \n",
       "1  https://a0.muscache.com/pictures/56645186/e5fb...    30559  ...   \n",
       "\n",
       "  review_scores_communication review_scores_location review_scores_value  \\\n",
       "0                        4.77                   4.88                4.57   \n",
       "1                        4.89                   4.68                4.67   \n",
       "\n",
       "              license instant_bookable calculated_host_listings_count  \\\n",
       "0  str-opli-19-002622                f                              2   \n",
       "1              Exempt                f                             11   \n",
       "\n",
       "  calculated_host_listings_count_entire_homes  \\\n",
       "0                                           2   \n",
       "1                                           0   \n",
       "\n",
       "  calculated_host_listings_count_private_rooms  \\\n",
       "0                                            0   \n",
       "1                                           11   \n",
       "\n",
       "  calculated_host_listings_count_shared_rooms reviews_per_month  \n",
       "0                                           0              0.86  \n",
       "1                                           0              1.19  \n",
       "\n",
       "[2 rows x 75 columns]"
      ]
     },
     "metadata": {},
     "output_type": "display_data"
    },
    {
     "data": {
      "text/plain": [
       "'df_reviews'"
      ]
     },
     "metadata": {},
     "output_type": "display_data"
    },
    {
     "data": {
      "text/html": [
       "<div>\n",
       "<style scoped>\n",
       "    .dataframe tbody tr th:only-of-type {\n",
       "        vertical-align: middle;\n",
       "    }\n",
       "\n",
       "    .dataframe tbody tr th {\n",
       "        vertical-align: top;\n",
       "    }\n",
       "\n",
       "    .dataframe thead th {\n",
       "        text-align: right;\n",
       "    }\n",
       "</style>\n",
       "<table border=\"1\" class=\"dataframe\">\n",
       "  <thead>\n",
       "    <tr style=\"text-align: right;\">\n",
       "      <th></th>\n",
       "      <th>listing_id</th>\n",
       "      <th>id</th>\n",
       "      <th>date</th>\n",
       "      <th>reviewer_id</th>\n",
       "      <th>reviewer_name</th>\n",
       "      <th>comments</th>\n",
       "    </tr>\n",
       "  </thead>\n",
       "  <tbody>\n",
       "    <tr>\n",
       "      <th>0</th>\n",
       "      <td>9419</td>\n",
       "      <td>71022</td>\n",
       "      <td>2010-07-30</td>\n",
       "      <td>166478</td>\n",
       "      <td>Beth</td>\n",
       "      <td>If you love art, animals, and yoga, this is th...</td>\n",
       "    </tr>\n",
       "    <tr>\n",
       "      <th>1</th>\n",
       "      <td>9419</td>\n",
       "      <td>83099</td>\n",
       "      <td>2010-08-23</td>\n",
       "      <td>165949</td>\n",
       "      <td>Erica</td>\n",
       "      <td>I only overnighted here but I loved the offbea...</td>\n",
       "    </tr>\n",
       "  </tbody>\n",
       "</table>\n",
       "</div>"
      ],
      "text/plain": [
       "   listing_id     id        date  reviewer_id reviewer_name  \\\n",
       "0        9419  71022  2010-07-30       166478          Beth   \n",
       "1        9419  83099  2010-08-23       165949         Erica   \n",
       "\n",
       "                                            comments  \n",
       "0  If you love art, animals, and yoga, this is th...  \n",
       "1  I only overnighted here but I loved the offbea...  "
      ]
     },
     "metadata": {},
     "output_type": "display_data"
    }
   ],
   "source": [
    "import pandas as pd\n",
    "import os\n",
    "\n",
    "\n",
    "DATA_DIR = '../data/seattle'\n",
    "\n",
    "df_calendar = pd.read_parquet(os.path.join(DATA_DIR, 'calendar.parquet'))\n",
    "df_listings = pd.read_parquet(os.path.join(DATA_DIR, 'listings.parquet'))\n",
    "df_reviews = pd.read_parquet(os.path.join(DATA_DIR, 'reviews.parquet'))\n",
    "\n",
    "display('df_calendar',df_calendar.head(2))\n",
    "display('df_listings',df_listings.head(2)) \n",
    "display('df_reviews',df_reviews.head(2))"
   ]
  },
  {
   "cell_type": "code",
   "execution_count": null,
   "metadata": {},
   "outputs": [],
   "source": [
    "!which python # Should be /Users/aus10powell/opt/anaconda3/bin/python"
   ]
  },
  {
   "cell_type": "markdown",
   "metadata": {},
   "source": [
    "## Initial Ranker Example\n"
   ]
  },
  {
   "cell_type": "code",
   "execution_count": 2,
   "metadata": {},
   "outputs": [],
   "source": [
    "# import importlib\n",
    "# importlib.reload(ListingRanker)"
   ]
  },
  {
   "cell_type": "code",
   "execution_count": 8,
   "metadata": {},
   "outputs": [
    {
     "name": "stdout",
     "output_type": "stream",
     "text": [
      "Found 2 reviews for user 166478\n"
     ]
    },
    {
     "ename": "TypeError",
     "evalue": "ListingRanker.__init__() got an unexpected keyword argument 'model'",
     "output_type": "error",
     "traceback": [
      "\u001b[0;31m---------------------------------------------------------------------------\u001b[0m",
      "\u001b[0;31mTypeError\u001b[0m                                 Traceback (most recent call last)",
      "Cell \u001b[0;32mIn[8], line 17\u001b[0m\n\u001b[1;32m     14\u001b[0m \u001b[38;5;28mprint\u001b[39m(\u001b[38;5;124mf\u001b[39m\u001b[38;5;124m\"\u001b[39m\u001b[38;5;124mFound \u001b[39m\u001b[38;5;132;01m{\u001b[39;00m\u001b[38;5;28mlen\u001b[39m(user_history)\u001b[38;5;132;01m}\u001b[39;00m\u001b[38;5;124m reviews for user \u001b[39m\u001b[38;5;132;01m{\u001b[39;00mexample_user_id\u001b[38;5;132;01m}\u001b[39;00m\u001b[38;5;124m\"\u001b[39m)\n\u001b[1;32m     16\u001b[0m \u001b[38;5;66;03m# Initialize the ranker\u001b[39;00m\n\u001b[0;32m---> 17\u001b[0m ranker \u001b[38;5;241m=\u001b[39m \u001b[43mListingRanker\u001b[49m\u001b[43m(\u001b[49m\u001b[43mmodel\u001b[49m\u001b[38;5;241;43m=\u001b[39;49m\u001b[38;5;124;43m'\u001b[39;49m\u001b[38;5;124;43mphi3\u001b[39;49m\u001b[38;5;124;43m'\u001b[39;49m\u001b[43m)\u001b[49m\n\u001b[1;32m     19\u001b[0m \u001b[38;5;66;03m# Get ranked recommendations\u001b[39;00m\n\u001b[1;32m     20\u001b[0m ranked_recommendations \u001b[38;5;241m=\u001b[39m ranker\u001b[38;5;241m.\u001b[39mrank_listings(\n\u001b[1;32m     21\u001b[0m     candidate_listings\u001b[38;5;241m=\u001b[39mdf_listings,\n\u001b[1;32m     22\u001b[0m     user_history\u001b[38;5;241m=\u001b[39muser_history\n\u001b[1;32m     23\u001b[0m )\n",
      "\u001b[0;31mTypeError\u001b[0m: ListingRanker.__init__() got an unexpected keyword argument 'model'"
     ]
    }
   ],
   "source": [
    "import sys\n",
    "sys.path.append('../src')\n",
    "import listing_ranker\n",
    "import importlib\n",
    "importlib.reload(listing_ranker)\n",
    "from listing_ranker import ListingRanker\n",
    "\n",
    "# Initialize ranker with data\n",
    "ranker = ListingRanker(listings_df=listings_df, reviews_df=reviews_df)\n",
    "\n",
    "# Example: Get recommendations for a user\n",
    "user_id = reviews_df['reviewer_id'].iloc[0]  # Get first user as example\n",
    "print(f\"User ID: {user_id}\")\n",
    "print(f\"User history: {reviews_df[reviews_df['reviewer_id'] == user_id]['listing_id'].tolist()}\")\n",
    "user_history = listings_df[listings_df['listing_id'].isin(\n",
    "    reviews_df[reviews_df['reviewer_id'] == user_id]['listing_id']\n",
    ")]\n",
    "\n",
    "# Get candidate items (excluding user history)\n",
    "candidates = listings_df[~listings_df['listing_id'].isin(user_history['listing_id'])]\n",
    "\n",
    "# Get recommendations\n",
    "recommendations = ranker.retrieve_candidates(\n",
    "    user_history=user_history,\n",
    "    candidates=candidates,\n",
    "    interaction_data=reviews_df,\n",
    "    top_k=5\n",
    ")\n",
    "\n",
    "print(\"\\nTop 5 recommendations:\")\n",
    "print(recommendations)\n"
   ]
  },
  {
   "cell_type": "markdown",
   "metadata": {},
   "source": [
    "### Evaluator "
   ]
  },
  {
   "cell_type": "code",
   "execution_count": 1,
   "metadata": {},
   "outputs": [
    {
     "name": "stderr",
     "output_type": "stream",
     "text": [
      "/Users/aus10powell/Documents/Projects/AirRanker/venv/lib/python3.10/site-packages/tqdm/auto.py:21: TqdmWarning: IProgress not found. Please update jupyter and ipywidgets. See https://ipywidgets.readthedocs.io/en/stable/user_install.html\n",
      "  from .autonotebook import tqdm as notebook_tqdm\n"
     ]
    },
    {
     "ename": "ModuleNotFoundError",
     "evalue": "No module named 'matplotlib'",
     "output_type": "error",
     "traceback": [
      "\u001b[0;31m---------------------------------------------------------------------------\u001b[0m",
      "\u001b[0;31mModuleNotFoundError\u001b[0m                       Traceback (most recent call last)",
      "Cell \u001b[0;32mIn[1], line 8\u001b[0m\n\u001b[1;32m      5\u001b[0m sys\u001b[38;5;241m.\u001b[39mpath\u001b[38;5;241m.\u001b[39mappend(project_root)\n\u001b[1;32m      7\u001b[0m \u001b[38;5;28;01mfrom\u001b[39;00m\u001b[38;5;250m \u001b[39m\u001b[38;5;21;01msrc\u001b[39;00m\u001b[38;5;21;01m.\u001b[39;00m\u001b[38;5;21;01mlisting_ranker\u001b[39;00m\u001b[38;5;250m \u001b[39m\u001b[38;5;28;01mimport\u001b[39;00m ListingRanker\n\u001b[0;32m----> 8\u001b[0m \u001b[38;5;28;01mfrom\u001b[39;00m\u001b[38;5;250m \u001b[39m\u001b[38;5;21;01msrc\u001b[39;00m\u001b[38;5;21;01m.\u001b[39;00m\u001b[38;5;21;01mrecommender_evaluator\u001b[39;00m\u001b[38;5;250m \u001b[39m\u001b[38;5;28;01mimport\u001b[39;00m RecommenderEvaluator\n\u001b[1;32m      9\u001b[0m \u001b[38;5;28;01mimport\u001b[39;00m\u001b[38;5;250m \u001b[39m\u001b[38;5;21;01mpandas\u001b[39;00m\u001b[38;5;250m \u001b[39m\u001b[38;5;28;01mas\u001b[39;00m\u001b[38;5;250m \u001b[39m\u001b[38;5;21;01mpd\u001b[39;00m\n\u001b[1;32m     10\u001b[0m \u001b[38;5;66;03m# Set up data directory\u001b[39;00m\n",
      "File \u001b[0;32m~/Documents/Projects/AirRanker/src/recommender_evaluator.py:5\u001b[0m\n\u001b[1;32m      3\u001b[0m \u001b[38;5;28;01mfrom\u001b[39;00m\u001b[38;5;250m \u001b[39m\u001b[38;5;21;01msklearn\u001b[39;00m\u001b[38;5;21;01m.\u001b[39;00m\u001b[38;5;21;01mmodel_selection\u001b[39;00m\u001b[38;5;250m \u001b[39m\u001b[38;5;28;01mimport\u001b[39;00m train_test_split\n\u001b[1;32m      4\u001b[0m \u001b[38;5;28;01mfrom\u001b[39;00m\u001b[38;5;250m \u001b[39m\u001b[38;5;21;01msklearn\u001b[39;00m\u001b[38;5;21;01m.\u001b[39;00m\u001b[38;5;21;01mmetrics\u001b[39;00m\u001b[38;5;250m \u001b[39m\u001b[38;5;28;01mimport\u001b[39;00m ndcg_score\n\u001b[0;32m----> 5\u001b[0m \u001b[38;5;28;01mimport\u001b[39;00m\u001b[38;5;250m \u001b[39m\u001b[38;5;21;01mmatplotlib\u001b[39;00m\u001b[38;5;21;01m.\u001b[39;00m\u001b[38;5;21;01mpyplot\u001b[39;00m\u001b[38;5;250m \u001b[39m\u001b[38;5;28;01mas\u001b[39;00m\u001b[38;5;250m \u001b[39m\u001b[38;5;21;01mplt\u001b[39;00m\n\u001b[1;32m      6\u001b[0m \u001b[38;5;28;01mfrom\u001b[39;00m\u001b[38;5;250m \u001b[39m\u001b[38;5;21;01mtqdm\u001b[39;00m\u001b[38;5;250m \u001b[39m\u001b[38;5;28;01mimport\u001b[39;00m tqdm\n\u001b[1;32m      7\u001b[0m \u001b[38;5;28;01mimport\u001b[39;00m\u001b[38;5;250m \u001b[39m\u001b[38;5;21;01mrandom\u001b[39;00m\n",
      "\u001b[0;31mModuleNotFoundError\u001b[0m: No module named 'matplotlib'"
     ]
    }
   ],
   "source": [
    "import os\n",
    "import sys\n",
    "notebook_dir = os.path.abspath(os.path.dirname('__file__'))\n",
    "project_root = os.path.abspath(os.path.join(notebook_dir, '..'))\n",
    "sys.path.append(project_root)\n",
    "\n",
    "from src.listing_ranker import ListingRanker\n",
    "from src.recommender_evaluator import RecommenderEvaluator\n",
    "import pandas as pd\n",
    "# Set up data directory\n",
    "DATA_DIR = '../data/seattle'\n",
    "\n",
    "# Load the data\n",
    "df_calendar = pd.read_parquet(os.path.join(DATA_DIR, 'calendar.parquet'))\n",
    "df_listings = pd.read_parquet(os.path.join(DATA_DIR, 'listings.parquet'))\n",
    "df_reviews = pd.read_parquet(os.path.join(DATA_DIR, 'reviews.parquet'))\n",
    "\n",
    "# Initialize the ListingRanker\n",
    "# Initialize the ranker and evaluator\n",
    "ranker = ListingRanker(model='phi3')\n",
    "evaluator = RecommenderEvaluator(\n",
    "    ranker=ranker,\n",
    "    df_listings=df_listings,\n",
    "    df_reviews=df_reviews\n",
    ")\n",
    "\n",
    "# Prepare holdout with smaller test size\n",
    "holdout_data = evaluator.prepare_holdout_set(\n",
    "    test_size=0.1,  # 10% of users\n",
    "    min_reviews=3\n",
    ")\n",
    "\n",
    "# Run evaluation with small sample\n",
    "results = evaluator.evaluate(\n",
    "    holdout_data=holdout_data,\n",
    "    k=5,  # Start with top-5 recommendations\n",
    "    sample_size=5  # Test with just 5 users first\n",
    ")\n",
    "\n",
    "# Print results\n",
    "print(\"\\nEvaluation Results:\")\n",
    "for metric, value in results['mean_metrics'].items():\n",
    "    print(f\"{metric}: {value:.4f}\")\n",
    "\n",
    "# Optionally plot results\n",
    "evaluator.plot_results(pd.DataFrame([results['mean_metrics']]))"
   ]
  },
  {
   "cell_type": "code",
   "execution_count": 21,
   "metadata": {},
   "outputs": [
    {
     "name": "stdout",
     "output_type": "stream",
     "text": [
      "\n",
      "Evaluation Results:\n",
      "ndcg: 0.0000\n",
      "precision: 0.0000\n",
      "recall: 0.0000\n",
      "diversity: 0.7366\n",
      "coverage: 0.0449\n",
      "latency: 9.1399\n"
     ]
    }
   ],
   "source": [
    "\n",
    "# Process results - ensure we're only averaging numeric values\n",
    "processed_results = {}\n",
    "for metric, values in results.items():\n",
    "    if isinstance(values, (list, np.ndarray)):  # If it's a list of values\n",
    "        try:\n",
    "            # Convert to float if possible and calculate mean\n",
    "            numeric_values = [float(v) for v in values if str(v).replace('.','',1).isdigit()]\n",
    "            if numeric_values:\n",
    "                processed_results[metric] = np.mean(numeric_values)\n",
    "            else:\n",
    "                processed_results[metric] = 0.0\n",
    "        except (ValueError, TypeError):\n",
    "            # If conversion fails, skip this metric\n",
    "            continue\n",
    "    elif isinstance(values, (int, float)):  # If it's already a single numeric value\n",
    "        processed_results[metric] = values\n",
    "    else:\n",
    "        # Store non-numeric values as is (like timestamp)\n",
    "        processed_results[metric] = values\n",
    "\n",
    "# Add metadata\n",
    "processed_results['timestamp'] = \"now\" #datetime.now().strftime(\"%Y-%m-%d %H:%M:%S\")\n",
    "processed_results['k'] = 10\n",
    "processed_results['sample_size'] = 20\n",
    "\n",
    "# Print results\n",
    "print(\"\\nEvaluation Results:\")\n",
    "for metric, value in processed_results.items():\n",
    "    if metric not in ['timestamp', 'k', 'sample_size']:\n",
    "        if isinstance(value, (int, float)):\n",
    "            print(f\"{metric}: {value:.4f}\")\n",
    "        else:\n",
    "            print(f\"{metric}: {value}\")\n",
    "\n",
    "# Plot results - only include numeric metrics\n",
    "numeric_results = {k: v for k, v in processed_results.items() \n",
    "                  if isinstance(v, (int, float)) and k not in ['k', 'sample_size']}\n",
    "#evaluator.plot_results(pd.DataFrame([numeric_results]))"
   ]
  },
  {
   "cell_type": "code",
   "execution_count": 15,
   "metadata": {},
   "outputs": [
    {
     "ename": "NameError",
     "evalue": "name 'RandomRanker' is not defined",
     "output_type": "error",
     "traceback": [
      "\u001b[0;31m---------------------------------------------------------------------------\u001b[0m",
      "\u001b[0;31mNameError\u001b[0m                                 Traceback (most recent call last)",
      "Cell \u001b[0;32mIn[15], line 4\u001b[0m\n\u001b[1;32m      1\u001b[0m \u001b[38;5;66;03m# Create multiple rankers to compare\u001b[39;00m\n\u001b[1;32m      2\u001b[0m models_dict \u001b[38;5;241m=\u001b[39m {\n\u001b[1;32m      3\u001b[0m     \u001b[38;5;124m'\u001b[39m\u001b[38;5;124mphi3\u001b[39m\u001b[38;5;124m'\u001b[39m: ListingRanker(model\u001b[38;5;241m=\u001b[39m\u001b[38;5;124m'\u001b[39m\u001b[38;5;124mphi4\u001b[39m\u001b[38;5;124m'\u001b[39m),\n\u001b[0;32m----> 4\u001b[0m     \u001b[38;5;124m'\u001b[39m\u001b[38;5;124mrandom\u001b[39m\u001b[38;5;124m'\u001b[39m: \u001b[43mRandomRanker\u001b[49m(),\n\u001b[1;32m      5\u001b[0m     \u001b[38;5;124m'\u001b[39m\u001b[38;5;124mpopularity\u001b[39m\u001b[38;5;124m'\u001b[39m: PopularityRanker(df_reviews)\n\u001b[1;32m      6\u001b[0m }\n\u001b[1;32m      8\u001b[0m \u001b[38;5;66;03m# Compare the models\u001b[39;00m\n\u001b[1;32m      9\u001b[0m comparison_results \u001b[38;5;241m=\u001b[39m evaluator\u001b[38;5;241m.\u001b[39mcompare_models(\n\u001b[1;32m     10\u001b[0m     models_dict\u001b[38;5;241m=\u001b[39mmodels_dict,\n\u001b[1;32m     11\u001b[0m     holdout_data\u001b[38;5;241m=\u001b[39mholdout_data,\n\u001b[1;32m     12\u001b[0m     k\u001b[38;5;241m=\u001b[39m\u001b[38;5;241m10\u001b[39m,\n\u001b[1;32m     13\u001b[0m     sample_size\u001b[38;5;241m=\u001b[39m\u001b[38;5;241m20\u001b[39m\n\u001b[1;32m     14\u001b[0m )\n",
      "\u001b[0;31mNameError\u001b[0m: name 'RandomRanker' is not defined"
     ]
    }
   ],
   "source": [
    "# Create multiple rankers to compare\n",
    "models_dict = {\n",
    "    'phi3': ListingRanker(model='phi4'),\n",
    "    'random': RandomRanker(),\n",
    "    'popularity': PopularityRanker(df_reviews)\n",
    "}\n",
    "\n",
    "# Compare the models\n",
    "comparison_results = evaluator.compare_models(\n",
    "    models_dict=models_dict,\n",
    "    holdout_data=holdout_data,\n",
    "    k=10,\n",
    "    sample_size=20\n",
    ")\n",
    "\n",
    "# Plot the comparison\n",
    "evaluator.plot_results(comparison_results)"
   ]
  },
  {
   "cell_type": "markdown",
   "metadata": {},
   "source": []
  }
 ],
 "metadata": {
  "kernelspec": {
   "display_name": "venv",
   "language": "python",
   "name": "python3"
  },
  "language_info": {
   "codemirror_mode": {
    "name": "ipython",
    "version": 3
   },
   "file_extension": ".py",
   "mimetype": "text/x-python",
   "name": "python",
   "nbconvert_exporter": "python",
   "pygments_lexer": "ipython3",
   "version": "3.10.13"
  }
 },
 "nbformat": 4,
 "nbformat_minor": 2
}

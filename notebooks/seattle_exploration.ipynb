{
 "cells": [
  {
   "cell_type": "code",
   "execution_count": null,
   "metadata": {},
   "outputs": [],
   "source": []
  },
  {
   "cell_type": "code",
   "execution_count": 13,
   "metadata": {},
   "outputs": [
    {
     "data": {
      "text/plain": [
       "'df_calendar'"
      ]
     },
     "metadata": {},
     "output_type": "display_data"
    },
    {
     "data": {
      "text/html": [
       "<div>\n",
       "<style scoped>\n",
       "    .dataframe tbody tr th:only-of-type {\n",
       "        vertical-align: middle;\n",
       "    }\n",
       "\n",
       "    .dataframe tbody tr th {\n",
       "        vertical-align: top;\n",
       "    }\n",
       "\n",
       "    .dataframe thead th {\n",
       "        text-align: right;\n",
       "    }\n",
       "</style>\n",
       "<table border=\"1\" class=\"dataframe\">\n",
       "  <thead>\n",
       "    <tr style=\"text-align: right;\">\n",
       "      <th></th>\n",
       "      <th>listing_id</th>\n",
       "      <th>date</th>\n",
       "      <th>available</th>\n",
       "      <th>price</th>\n",
       "      <th>adjusted_price</th>\n",
       "      <th>minimum_nights</th>\n",
       "      <th>maximum_nights</th>\n",
       "    </tr>\n",
       "  </thead>\n",
       "  <tbody>\n",
       "    <tr>\n",
       "      <th>0</th>\n",
       "      <td>9419</td>\n",
       "      <td>2024-12-23</td>\n",
       "      <td>f</td>\n",
       "      <td>$62.00</td>\n",
       "      <td>NaN</td>\n",
       "      <td>2</td>\n",
       "      <td>90</td>\n",
       "    </tr>\n",
       "    <tr>\n",
       "      <th>1</th>\n",
       "      <td>9419</td>\n",
       "      <td>2024-12-24</td>\n",
       "      <td>f</td>\n",
       "      <td>$62.00</td>\n",
       "      <td>NaN</td>\n",
       "      <td>2</td>\n",
       "      <td>90</td>\n",
       "    </tr>\n",
       "  </tbody>\n",
       "</table>\n",
       "</div>"
      ],
      "text/plain": [
       "   listing_id        date available   price  adjusted_price  minimum_nights  \\\n",
       "0        9419  2024-12-23         f  $62.00             NaN               2   \n",
       "1        9419  2024-12-24         f  $62.00             NaN               2   \n",
       "\n",
       "   maximum_nights  \n",
       "0              90  \n",
       "1              90  "
      ]
     },
     "metadata": {},
     "output_type": "display_data"
    },
    {
     "data": {
      "text/plain": [
       "'df_listings'"
      ]
     },
     "metadata": {},
     "output_type": "display_data"
    },
    {
     "data": {
      "text/html": [
       "<div>\n",
       "<style scoped>\n",
       "    .dataframe tbody tr th:only-of-type {\n",
       "        vertical-align: middle;\n",
       "    }\n",
       "\n",
       "    .dataframe tbody tr th {\n",
       "        vertical-align: top;\n",
       "    }\n",
       "\n",
       "    .dataframe thead th {\n",
       "        text-align: right;\n",
       "    }\n",
       "</style>\n",
       "<table border=\"1\" class=\"dataframe\">\n",
       "  <thead>\n",
       "    <tr style=\"text-align: right;\">\n",
       "      <th></th>\n",
       "      <th>id</th>\n",
       "      <th>listing_url</th>\n",
       "      <th>scrape_id</th>\n",
       "      <th>last_scraped</th>\n",
       "      <th>source</th>\n",
       "      <th>name</th>\n",
       "      <th>description</th>\n",
       "      <th>neighborhood_overview</th>\n",
       "      <th>picture_url</th>\n",
       "      <th>host_id</th>\n",
       "      <th>...</th>\n",
       "      <th>review_scores_communication</th>\n",
       "      <th>review_scores_location</th>\n",
       "      <th>review_scores_value</th>\n",
       "      <th>license</th>\n",
       "      <th>instant_bookable</th>\n",
       "      <th>calculated_host_listings_count</th>\n",
       "      <th>calculated_host_listings_count_entire_homes</th>\n",
       "      <th>calculated_host_listings_count_private_rooms</th>\n",
       "      <th>calculated_host_listings_count_shared_rooms</th>\n",
       "      <th>reviews_per_month</th>\n",
       "    </tr>\n",
       "  </thead>\n",
       "  <tbody>\n",
       "    <tr>\n",
       "      <th>0</th>\n",
       "      <td>6606</td>\n",
       "      <td>https://www.airbnb.com/rooms/6606</td>\n",
       "      <td>20241223022600</td>\n",
       "      <td>2024-12-23</td>\n",
       "      <td>city scrape</td>\n",
       "      <td>Fab, private seattle urban cottage!</td>\n",
       "      <td>This tiny cottage is only 15x10, but it has ev...</td>\n",
       "      <td>A peaceful yet highly accessible neighborhood,...</td>\n",
       "      <td>https://a0.muscache.com/pictures/45742/21116d7...</td>\n",
       "      <td>14942</td>\n",
       "      <td>...</td>\n",
       "      <td>4.77</td>\n",
       "      <td>4.88</td>\n",
       "      <td>4.57</td>\n",
       "      <td>str-opli-19-002622</td>\n",
       "      <td>f</td>\n",
       "      <td>2</td>\n",
       "      <td>2</td>\n",
       "      <td>0</td>\n",
       "      <td>0</td>\n",
       "      <td>0.86</td>\n",
       "    </tr>\n",
       "    <tr>\n",
       "      <th>1</th>\n",
       "      <td>9419</td>\n",
       "      <td>https://www.airbnb.com/rooms/9419</td>\n",
       "      <td>20241223022600</td>\n",
       "      <td>2024-12-23</td>\n",
       "      <td>city scrape</td>\n",
       "      <td>Glorious sun room w/ memory foambed</td>\n",
       "      <td>This beautiful double room features sun filled...</td>\n",
       "      <td>Lots of restaurants (see our guide book) bars,...</td>\n",
       "      <td>https://a0.muscache.com/pictures/56645186/e5fb...</td>\n",
       "      <td>30559</td>\n",
       "      <td>...</td>\n",
       "      <td>4.89</td>\n",
       "      <td>4.68</td>\n",
       "      <td>4.67</td>\n",
       "      <td>Exempt</td>\n",
       "      <td>f</td>\n",
       "      <td>11</td>\n",
       "      <td>0</td>\n",
       "      <td>11</td>\n",
       "      <td>0</td>\n",
       "      <td>1.19</td>\n",
       "    </tr>\n",
       "  </tbody>\n",
       "</table>\n",
       "<p>2 rows × 75 columns</p>\n",
       "</div>"
      ],
      "text/plain": [
       "     id                        listing_url       scrape_id last_scraped  \\\n",
       "0  6606  https://www.airbnb.com/rooms/6606  20241223022600   2024-12-23   \n",
       "1  9419  https://www.airbnb.com/rooms/9419  20241223022600   2024-12-23   \n",
       "\n",
       "        source                                 name  \\\n",
       "0  city scrape  Fab, private seattle urban cottage!   \n",
       "1  city scrape  Glorious sun room w/ memory foambed   \n",
       "\n",
       "                                         description  \\\n",
       "0  This tiny cottage is only 15x10, but it has ev...   \n",
       "1  This beautiful double room features sun filled...   \n",
       "\n",
       "                               neighborhood_overview  \\\n",
       "0  A peaceful yet highly accessible neighborhood,...   \n",
       "1  Lots of restaurants (see our guide book) bars,...   \n",
       "\n",
       "                                         picture_url  host_id  ...  \\\n",
       "0  https://a0.muscache.com/pictures/45742/21116d7...    14942  ...   \n",
       "1  https://a0.muscache.com/pictures/56645186/e5fb...    30559  ...   \n",
       "\n",
       "  review_scores_communication review_scores_location review_scores_value  \\\n",
       "0                        4.77                   4.88                4.57   \n",
       "1                        4.89                   4.68                4.67   \n",
       "\n",
       "              license instant_bookable calculated_host_listings_count  \\\n",
       "0  str-opli-19-002622                f                              2   \n",
       "1              Exempt                f                             11   \n",
       "\n",
       "  calculated_host_listings_count_entire_homes  \\\n",
       "0                                           2   \n",
       "1                                           0   \n",
       "\n",
       "  calculated_host_listings_count_private_rooms  \\\n",
       "0                                            0   \n",
       "1                                           11   \n",
       "\n",
       "  calculated_host_listings_count_shared_rooms reviews_per_month  \n",
       "0                                           0              0.86  \n",
       "1                                           0              1.19  \n",
       "\n",
       "[2 rows x 75 columns]"
      ]
     },
     "metadata": {},
     "output_type": "display_data"
    },
    {
     "data": {
      "text/plain": [
       "'df_reviews'"
      ]
     },
     "metadata": {},
     "output_type": "display_data"
    },
    {
     "data": {
      "text/html": [
       "<div>\n",
       "<style scoped>\n",
       "    .dataframe tbody tr th:only-of-type {\n",
       "        vertical-align: middle;\n",
       "    }\n",
       "\n",
       "    .dataframe tbody tr th {\n",
       "        vertical-align: top;\n",
       "    }\n",
       "\n",
       "    .dataframe thead th {\n",
       "        text-align: right;\n",
       "    }\n",
       "</style>\n",
       "<table border=\"1\" class=\"dataframe\">\n",
       "  <thead>\n",
       "    <tr style=\"text-align: right;\">\n",
       "      <th></th>\n",
       "      <th>listing_id</th>\n",
       "      <th>id</th>\n",
       "      <th>date</th>\n",
       "      <th>reviewer_id</th>\n",
       "      <th>reviewer_name</th>\n",
       "      <th>comments</th>\n",
       "    </tr>\n",
       "  </thead>\n",
       "  <tbody>\n",
       "    <tr>\n",
       "      <th>0</th>\n",
       "      <td>9419</td>\n",
       "      <td>71022</td>\n",
       "      <td>2010-07-30</td>\n",
       "      <td>166478</td>\n",
       "      <td>Beth</td>\n",
       "      <td>If you love art, animals, and yoga, this is th...</td>\n",
       "    </tr>\n",
       "    <tr>\n",
       "      <th>1</th>\n",
       "      <td>9419</td>\n",
       "      <td>83099</td>\n",
       "      <td>2010-08-23</td>\n",
       "      <td>165949</td>\n",
       "      <td>Erica</td>\n",
       "      <td>I only overnighted here but I loved the offbea...</td>\n",
       "    </tr>\n",
       "  </tbody>\n",
       "</table>\n",
       "</div>"
      ],
      "text/plain": [
       "   listing_id     id        date  reviewer_id reviewer_name  \\\n",
       "0        9419  71022  2010-07-30       166478          Beth   \n",
       "1        9419  83099  2010-08-23       165949         Erica   \n",
       "\n",
       "                                            comments  \n",
       "0  If you love art, animals, and yoga, this is th...  \n",
       "1  I only overnighted here but I loved the offbea...  "
      ]
     },
     "metadata": {},
     "output_type": "display_data"
    }
   ],
   "source": [
    "import pandas as pd\n",
    "import seaborn as sns\n",
    "import numpy as np\n",
    "import os\n",
    "\n",
    "\n",
    "DATA_DIR = '../data/seattle'\n",
    "\n",
    "df_calendar = pd.read_parquet(os.path.join(DATA_DIR, 'calendar.parquet'))\n",
    "df_listings = pd.read_parquet(os.path.join(DATA_DIR, 'listings.parquet'))\n",
    "df_reviews = pd.read_parquet(os.path.join(DATA_DIR, 'reviews.parquet'))\n",
    "\n",
    "display('df_calendar',df_calendar.head(2))\n",
    "display('df_listings',df_listings.head(2)) \n",
    "display('df_reviews',df_reviews.head(2))"
   ]
  },
  {
   "cell_type": "code",
   "execution_count": 4,
   "metadata": {},
   "outputs": [
    {
     "name": "stdout",
     "output_type": "stream",
     "text": [
      "/Users/aus10powell/Documents/Projects/AirRanker/venv/bin/python\n"
     ]
    }
   ],
   "source": [
    "!which python # Should be /Users/aus10powell/opt/anaconda3/bin/python"
   ]
  },
  {
   "cell_type": "markdown",
   "metadata": {},
   "source": [
    "### Reviews"
   ]
  },
  {
   "cell_type": "code",
   "execution_count": 14,
   "metadata": {},
   "outputs": [
    {
     "name": "stdout",
     "output_type": "stream",
     "text": [
      "Reviews per user summary statistics:\n",
      "count    454082.000000\n",
      "mean          1.159665\n",
      "std           0.685782\n",
      "min           1.000000\n",
      "25%           1.000000\n",
      "50%           1.000000\n",
      "75%           1.000000\n",
      "max          73.000000\n",
      "Name: count, dtype: float64\n",
      "\n",
      "Percentage of users by review count:\n",
      "Users with exactly 1 review(s): 89.8%\n",
      "Users with exactly 2 review(s): 7.4%\n",
      "Users with exactly 3 review(s): 1.6%\n",
      "Users with exactly 5 review(s): 0.3%\n",
      "Users with exactly 10 review(s): 0.0%\n",
      "\n",
      "Percentage of users with only 1 review: 89.8%\n"
     ]
    },
    {
     "data": {
      "image/png": "[encoded data removed]",
      "text/plain": [
       "<Figure size 2000x600 with 2 Axes>"
      ]
     },
     "metadata": {},
     "output_type": "display_data"
    }
   ],
   "source": [
    "# Number of reviews per user distribution\n",
    "# Calculate reviews per user\n",
    "reviews_per_user = df_reviews['reviewer_id'].value_counts()\n",
    "\n",
    "# Create distribution plots\n",
    "import matplotlib.pyplot as plt\n",
    "import seaborn as sns\n",
    "\n",
    "plt.figure(figsize=(20, 6))\n",
    "\n",
    "# Original distribution\n",
    "plt.subplot(1, 2, 1)\n",
    "sns.histplot(data=reviews_per_user, bins=50)\n",
    "plt.title('Distribution of Reviews per User')\n",
    "plt.xlabel('Number of Reviews')\n",
    "plt.ylabel('Count of Users')\n",
    "\n",
    "# Squared distribution \n",
    "plt.subplot(1, 2, 2)\n",
    "sns.histplot(data=np.sqrt(reviews_per_user), bins=50)\n",
    "plt.title('Distribution of Squared Reviews per User')\n",
    "plt.xlabel('Number of Reviews Squared')\n",
    "plt.ylabel('Count of Users')\n",
    "\n",
    "# Print summary statistics\n",
    "print(\"Reviews per user summary statistics:\")\n",
    "print(reviews_per_user.describe())\n",
    "\n",
    "# Show percentage of users with different review counts\n",
    "print(\"\\nPercentage of users by review count:\")\n",
    "for n in [1, 2, 3, 5, 10]:\n",
    "    pct = (reviews_per_user == n).mean() * 100\n",
    "    print(f\"Users with exactly {n} review(s): {pct:.1f}%\")\n",
    "\n",
    "pct_single = (reviews_per_user == 1).mean() * 100\n",
    "print(f\"\\nPercentage of users with only 1 review: {pct_single:.1f}%\")\n"
   ]
  },
  {
   "cell_type": "markdown",
   "metadata": {},
   "source": []
  }
 ],
 "metadata": {
  "kernelspec": {
   "display_name": "venv",
   "language": "python",
   "name": "python3"
  },
  "language_info": {
   "codemirror_mode": {
    "name": "ipython",
    "version": 3
   },
   "file_extension": ".py",
   "mimetype": "text/x-python",
   "name": "python",
   "nbconvert_exporter": "python",
   "pygments_lexer": "ipython3",
   "version": "3.10.13"
  }
 },
 "nbformat": 4,
 "nbformat_minor": 2
}
